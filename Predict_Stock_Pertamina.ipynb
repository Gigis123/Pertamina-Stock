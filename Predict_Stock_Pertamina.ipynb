{
  "cells": [
    {
      "cell_type": "markdown",
      "metadata": {
        "id": "pHvlGEP2x3yJ"
      },
      "source": [
        "# Import Libaries"
      ]
    },
    {
      "cell_type": "code",
      "execution_count": 1,
      "metadata": {
        "id": "NHCzKKJ5yWCV"
      },
      "outputs": [],
      "source": [
        "# import general model\n",
        "import pandas as pd\n",
        "import numpy as np\n",
        "from datetime import datetime\n",
        "import matplotlib.pyplot as plt\n",
        "import yfinance as yahooFinance\n",
        "\n",
        "# import prediction model\n",
        "from statsmodels.tsa.stattools import adfuller\n",
        "from statsmodels.tsa.seasonal import seasonal_decompose\n",
        "from statsmodels.tsa.arima.model import ARIMA\n",
        "from statsmodels.tsa.statespace.sarimax import SARIMAX\n",
        "from sklearn.metrics import mean_absolute_error"
      ]
    },
    {
      "cell_type": "markdown",
      "metadata": {
        "id": "e0-aAuO6ywp_"
      },
      "source": [
        "# Data Loading"
      ]
    },
    {
      "cell_type": "code",
      "execution_count": 2,
      "metadata": {},
      "outputs": [
        {
          "name": "stdout",
          "output_type": "stream",
          "text": [
            "{'address1': 'Grha Pertamina - Pertamax Tower', 'address2': '7th Floor Jl. Medan Merdeka Timur No. 11-13, Gambir', 'city': 'Jakarta Pusat', 'zip': '10110', 'country': 'Indonesia', 'phone': '62 21 3983 3222', 'fax': '62 21 3983 3230', 'website': 'https://www.pge.pertamina.com', 'industry': 'Utilities - Renewable', 'industryKey': 'utilities-renewable', 'industryDisp': 'Utilities - Renewable', 'sector': 'Utilities', 'sectorKey': 'utilities', 'sectorDisp': 'Utilities', 'longBusinessSummary': 'PT Pertamina Geothermal Energy Tbk, together with its subsidiaries, engages in the development of geothermal energy in the upstream and downstream sectors in Indonesia and internationally. The company was founded in 2006 and is headquartered in Central Jakarta, Indonesia. PT Pertamina Geothermal Energy Tbk operates as a subsidiary of PT Pertamina Power Indonesia.', 'fullTimeEmployees': 502, 'companyOfficers': [{'maxAge': 1, 'name': 'Yulfi  Hadi', 'title': 'President Director', 'exercisedValue': 0, 'unexercisedValue': 0}, {'maxAge': 1, 'name': 'Yurizki  Rio', 'title': 'Finance Director & Director', 'exercisedValue': 0, 'unexercisedValue': 0}, {'maxAge': 1, 'name': 'Ahmad  Yani', 'title': 'Operations Director & Director', 'exercisedValue': 0, 'unexercisedValue': 0}, {'maxAge': 1, 'name': 'Ms. Dyna Lusi Susanti CFE', 'age': 43, 'title': 'Chair of Internal Audit Unit', 'yearBorn': 1980, 'exercisedValue': 0, 'unexercisedValue': 0}, {'maxAge': 1, 'name': 'Mr. Edwil  Suzandi', 'title': 'Director of Exploration & Development and Director', 'exercisedValue': 0, 'unexercisedValue': 0}, {'maxAge': 1, 'name': 'Mr. Muhammad  Baron', 'age': 50, 'title': 'Corporate Secretary', 'yearBorn': 1973, 'exercisedValue': 0, 'unexercisedValue': 0}], 'maxAge': 86400, 'priceHint': 2, 'previousClose': 1130.0, 'open': 1135.0, 'dayLow': 1135.0, 'dayHigh': 1150.0, 'regularMarketPreviousClose': 1130.0, 'regularMarketOpen': 1135.0, 'regularMarketDayLow': 1135.0, 'regularMarketDayHigh': 1150.0, 'dividendRate': 47.77, 'dividendYield': 0.0423, 'exDividendDate': 1717632000, 'payoutRatio': 0.71730006, 'trailingPE': 17.94993, 'forwardPE': 17.5709, 'volume': 11995100, 'regularMarketVolume': 11995100, 'averageVolume': 15160973, 'averageVolume10days': 12933960, 'averageDailyVolume10Day': 12933960, 'bid': 1135.0, 'ask': 1140.0, 'marketCap': 47312508289024, 'fiftyTwoWeekLow': 990.0, 'fiftyTwoWeekHigh': 1680.0, 'priceToSalesTrailing12Months': 117305.87, 'fiftyDayAverage': 1222.4, 'twoHundredDayAverage': 1205.275, 'trailingAnnualDividendRate': 0.003, 'trailingAnnualDividendYield': 2.6548673e-06, 'currency': 'IDR', 'enterpriseValue': 46889458204672, 'profitMargins': 0.41429, 'floatShares': 6722606180, 'sharesOutstanding': 41502199808, 'heldPercentInsiders': 0.95732003, 'heldPercentInstitutions': 0.012, 'impliedSharesOutstanding': 42236399616, 'bookValue': 0.047, 'priceToBook': 24255.32, 'lastFiscalYearEnd': 1703980800, 'nextFiscalYearEnd': 1735603200, 'mostRecentQuarter': 1719705600, 'earningsQuarterlyGrowth': 0.065, 'netIncomeToCommon': 167095008, 'trailingEps': 63.51, 'forwardEps': 64.88, 'enterpriseToRevenue': 116256.97, 'enterpriseToEbitda': 144974.7, '52WeekChange': -0.081300795, 'SandP52WeekChange': 0.23285389, 'lastDividendValue': 47.77364, 'lastDividendDate': 1717632000, 'exchange': 'JKT', 'quoteType': 'EQUITY', 'symbol': 'PGEO.JK', 'underlyingSymbol': 'PGEO.JK', 'shortName': 'Pertamina Geothermal Energy Tbk', 'longName': 'PT Pertamina Geothermal Energy Tbk', 'firstTradeDateEpochUtc': 1677204000, 'timeZoneFullName': 'Asia/Jakarta', 'timeZoneShortName': 'WIB', 'uuid': 'ca168b40-69ea-3b22-8cb8-5f0bb1ebf69d', 'messageBoardId': 'finmb_36871547', 'gmtOffSetMilliseconds': 25200000, 'currentPrice': 1140.0, 'targetHighPrice': 1622.02, 'targetLowPrice': 1135.41, 'targetMeanPrice': 1459.82, 'targetMedianPrice': 1459.82, 'recommendationMean': 2.0, 'recommendationKey': 'buy', 'numberOfAnalystOpinions': 6, 'totalCash': 638921984, 'totalCashPerShare': 0.015, 'ebitda': 323432000, 'totalDebt': 738131008, 'quickRatio': 3.757, 'currentRatio': 3.927, 'totalRevenue': 403326016, 'debtToEquity': 37.941, 'revenuePerShare': 0.01, 'returnOnAssets': 0.04586, 'returnOnEquity': 0.086940005, 'freeCashflow': 119251376, 'operatingCashflow': 262750000, 'earningsGrowth': 0.061, 'revenueGrowth': -0.035, 'grossMargins': 0.54320997, 'ebitdaMargins': 0.80191004, 'operatingMargins': 0.54301, 'financialCurrency': 'USD', 'trailingPegRatio': None}\n"
          ]
        }
      ],
      "source": [
        "# Import Pertamina Stock price from Yahoo Finance\n",
        "GetPertaminaInformation = yahooFinance.Ticker(\"PGEO.JK\")\n",
        "print(GetPertaminaInformation.info)"
      ]
    },
    {
      "cell_type": "code",
      "execution_count": 3,
      "metadata": {},
      "outputs": [
        {
          "name": "stdout",
          "output_type": "stream",
          "text": [
            "                             Open    High     Low   Close    Volume  \\\n",
            "Date                                                                  \n",
            "2024-06-12 00:00:00+07:00  1170.0  1170.0  1110.0  1115.0  12869100   \n",
            "2024-06-13 00:00:00+07:00  1120.0  1135.0  1115.0  1120.0   3379500   \n",
            "2024-06-14 00:00:00+07:00  1120.0  1125.0  1055.0  1060.0  11470900   \n",
            "2024-06-19 00:00:00+07:00  1060.0  1060.0  1005.0  1005.0  16021300   \n",
            "2024-06-20 00:00:00+07:00  1010.0  1055.0  1010.0  1045.0   9028800   \n",
            "...                           ...     ...     ...     ...       ...   \n",
            "2024-09-06 00:00:00+07:00  1140.0  1140.0  1125.0  1130.0  10154600   \n",
            "2024-09-09 00:00:00+07:00  1130.0  1140.0  1130.0  1130.0   6368400   \n",
            "2024-09-10 00:00:00+07:00  1130.0  1160.0  1130.0  1150.0  12947900   \n",
            "2024-09-11 00:00:00+07:00  1155.0  1160.0  1130.0  1130.0  12958500   \n",
            "2024-09-12 00:00:00+07:00  1135.0  1150.0  1135.0  1140.0  11995100   \n",
            "\n",
            "                           Dividends  Stock Splits  \n",
            "Date                                                \n",
            "2024-06-12 00:00:00+07:00        0.0           0.0  \n",
            "2024-06-13 00:00:00+07:00        0.0           0.0  \n",
            "2024-06-14 00:00:00+07:00        0.0           0.0  \n",
            "2024-06-19 00:00:00+07:00        0.0           0.0  \n",
            "2024-06-20 00:00:00+07:00        0.0           0.0  \n",
            "...                              ...           ...  \n",
            "2024-09-06 00:00:00+07:00        0.0           0.0  \n",
            "2024-09-09 00:00:00+07:00        0.0           0.0  \n",
            "2024-09-10 00:00:00+07:00        0.0           0.0  \n",
            "2024-09-11 00:00:00+07:00        0.0           0.0  \n",
            "2024-09-12 00:00:00+07:00        0.0           0.0  \n",
            "\n",
            "[65 rows x 7 columns]\n"
          ]
        }
      ],
      "source": [
        "# Get Historical Data of Pertamina for the last 3 month\n",
        "GetPertaminaInformation = yahooFinance.Ticker(\"PGEO.JK\")\n",
        "print(GetPertaminaInformation.history(period=\"3mo\"))"
      ]
    },
    {
      "cell_type": "code",
      "execution_count": 4,
      "metadata": {},
      "outputs": [],
      "source": [
        "# Exporting the Pertamina Stock Data to .csv \n",
        "stock_data = GetPertaminaInformation.history(period=\"3mo\")\n",
        "stock_data.index = stock_data.index.strftime('%Y-%m-%d')\n",
        "stock_data.to_csv(r\"Pertamina_Stocks.csv\")"
      ]
    },
    {
      "cell_type": "code",
      "execution_count": 5,
      "metadata": {
        "id": "v5De7CmKgE3R"
      },
      "outputs": [],
      "source": [
        "# loading dataset from .csv file to pandas dataframe\n",
        "df_ori = pd.read_csv('Pertamina_Stocks.csv')\n",
        "pd.set_option('display.max_columns',None) #display all columns"
      ]
    },
    {
      "cell_type": "code",
      "execution_count": 6,
      "metadata": {
        "colab": {
          "base_uri": "https://localhost:8080/",
          "height": 204
        },
        "id": "lxXlc4ejgRj5",
        "outputId": "e60fae85-09a8-4ade-b3e7-d06a5cb9d1bb"
      },
      "outputs": [
        {
          "data": {
            "text/html": [
              "<div>\n",
              "<style scoped>\n",
              "    .dataframe tbody tr th:only-of-type {\n",
              "        vertical-align: middle;\n",
              "    }\n",
              "\n",
              "    .dataframe tbody tr th {\n",
              "        vertical-align: top;\n",
              "    }\n",
              "\n",
              "    .dataframe thead th {\n",
              "        text-align: right;\n",
              "    }\n",
              "</style>\n",
              "<table border=\"1\" class=\"dataframe\">\n",
              "  <thead>\n",
              "    <tr style=\"text-align: right;\">\n",
              "      <th></th>\n",
              "      <th>Date</th>\n",
              "      <th>Open</th>\n",
              "      <th>High</th>\n",
              "      <th>Low</th>\n",
              "      <th>Close</th>\n",
              "      <th>Volume</th>\n",
              "      <th>Dividends</th>\n",
              "      <th>Stock Splits</th>\n",
              "    </tr>\n",
              "  </thead>\n",
              "  <tbody>\n",
              "    <tr>\n",
              "      <th>0</th>\n",
              "      <td>2024-06-12</td>\n",
              "      <td>1170.0</td>\n",
              "      <td>1170.0</td>\n",
              "      <td>1110.0</td>\n",
              "      <td>1115.0</td>\n",
              "      <td>12869100</td>\n",
              "      <td>0.0</td>\n",
              "      <td>0.0</td>\n",
              "    </tr>\n",
              "    <tr>\n",
              "      <th>1</th>\n",
              "      <td>2024-06-13</td>\n",
              "      <td>1120.0</td>\n",
              "      <td>1135.0</td>\n",
              "      <td>1115.0</td>\n",
              "      <td>1120.0</td>\n",
              "      <td>3379500</td>\n",
              "      <td>0.0</td>\n",
              "      <td>0.0</td>\n",
              "    </tr>\n",
              "    <tr>\n",
              "      <th>2</th>\n",
              "      <td>2024-06-14</td>\n",
              "      <td>1120.0</td>\n",
              "      <td>1125.0</td>\n",
              "      <td>1055.0</td>\n",
              "      <td>1060.0</td>\n",
              "      <td>11470900</td>\n",
              "      <td>0.0</td>\n",
              "      <td>0.0</td>\n",
              "    </tr>\n",
              "    <tr>\n",
              "      <th>3</th>\n",
              "      <td>2024-06-19</td>\n",
              "      <td>1060.0</td>\n",
              "      <td>1060.0</td>\n",
              "      <td>1005.0</td>\n",
              "      <td>1005.0</td>\n",
              "      <td>16021300</td>\n",
              "      <td>0.0</td>\n",
              "      <td>0.0</td>\n",
              "    </tr>\n",
              "    <tr>\n",
              "      <th>4</th>\n",
              "      <td>2024-06-20</td>\n",
              "      <td>1010.0</td>\n",
              "      <td>1055.0</td>\n",
              "      <td>1010.0</td>\n",
              "      <td>1045.0</td>\n",
              "      <td>9028800</td>\n",
              "      <td>0.0</td>\n",
              "      <td>0.0</td>\n",
              "    </tr>\n",
              "  </tbody>\n",
              "</table>\n",
              "</div>"
            ],
            "text/plain": [
              "         Date    Open    High     Low   Close    Volume  Dividends  \\\n",
              "0  2024-06-12  1170.0  1170.0  1110.0  1115.0  12869100        0.0   \n",
              "1  2024-06-13  1120.0  1135.0  1115.0  1120.0   3379500        0.0   \n",
              "2  2024-06-14  1120.0  1125.0  1055.0  1060.0  11470900        0.0   \n",
              "3  2024-06-19  1060.0  1060.0  1005.0  1005.0  16021300        0.0   \n",
              "4  2024-06-20  1010.0  1055.0  1010.0  1045.0   9028800        0.0   \n",
              "\n",
              "   Stock Splits  \n",
              "0           0.0  \n",
              "1           0.0  \n",
              "2           0.0  \n",
              "3           0.0  \n",
              "4           0.0  "
            ]
          },
          "execution_count": 6,
          "metadata": {},
          "output_type": "execute_result"
        }
      ],
      "source": [
        "# show dataframe\n",
        "df = df_ori.copy()\n",
        "\n",
        "# show dataframe\n",
        "df.head()"
      ]
    },
    {
      "cell_type": "code",
      "execution_count": 7,
      "metadata": {
        "colab": {
          "base_uri": "https://localhost:8080/"
        },
        "id": "VT6qeBGm4UoJ",
        "outputId": "93a10da5-d440-4ace-be26-5cbf913fbf74"
      },
      "outputs": [
        {
          "name": "stdout",
          "output_type": "stream",
          "text": [
            "<class 'pandas.core.frame.DataFrame'>\n",
            "RangeIndex: 65 entries, 0 to 64\n",
            "Data columns (total 8 columns):\n",
            " #   Column        Non-Null Count  Dtype  \n",
            "---  ------        --------------  -----  \n",
            " 0   Date          65 non-null     object \n",
            " 1   Open          65 non-null     float64\n",
            " 2   High          65 non-null     float64\n",
            " 3   Low           65 non-null     float64\n",
            " 4   Close         65 non-null     float64\n",
            " 5   Volume        65 non-null     int64  \n",
            " 6   Dividends     65 non-null     float64\n",
            " 7   Stock Splits  65 non-null     float64\n",
            "dtypes: float64(6), int64(1), object(1)\n",
            "memory usage: 4.2+ KB\n"
          ]
        }
      ],
      "source": [
        "# check summary\n",
        "df.info()"
      ]
    },
    {
      "cell_type": "code",
      "execution_count": 8,
      "metadata": {
        "colab": {
          "base_uri": "https://localhost:8080/"
        },
        "id": "t2DpLsHEoJX4",
        "outputId": "02b101f6-880f-4973-ed9c-d0385bb162ef"
      },
      "outputs": [
        {
          "data": {
            "text/plain": [
              "Date            0\n",
              "Open            0\n",
              "High            0\n",
              "Low             0\n",
              "Close           0\n",
              "Volume          0\n",
              "Dividends       0\n",
              "Stock Splits    0\n",
              "dtype: int64"
            ]
          },
          "execution_count": 8,
          "metadata": {},
          "output_type": "execute_result"
        }
      ],
      "source": [
        "# check missing value\n",
        "df.isnull().sum()"
      ]
    },
    {
      "cell_type": "code",
      "execution_count": 9,
      "metadata": {
        "colab": {
          "base_uri": "https://localhost:8080/",
          "height": 235
        },
        "id": "ZMtlJo1B4TCV",
        "outputId": "109ac25d-9bb0-4fb1-bb66-5f1b3d374eee"
      },
      "outputs": [
        {
          "data": {
            "text/html": [
              "<div>\n",
              "<style scoped>\n",
              "    .dataframe tbody tr th:only-of-type {\n",
              "        vertical-align: middle;\n",
              "    }\n",
              "\n",
              "    .dataframe tbody tr th {\n",
              "        vertical-align: top;\n",
              "    }\n",
              "\n",
              "    .dataframe thead th {\n",
              "        text-align: right;\n",
              "    }\n",
              "</style>\n",
              "<table border=\"1\" class=\"dataframe\">\n",
              "  <thead>\n",
              "    <tr style=\"text-align: right;\">\n",
              "      <th></th>\n",
              "      <th>Close</th>\n",
              "    </tr>\n",
              "    <tr>\n",
              "      <th>Date</th>\n",
              "      <th></th>\n",
              "    </tr>\n",
              "  </thead>\n",
              "  <tbody>\n",
              "    <tr>\n",
              "      <th>2024-06-12</th>\n",
              "      <td>1115.0</td>\n",
              "    </tr>\n",
              "    <tr>\n",
              "      <th>2024-06-13</th>\n",
              "      <td>1120.0</td>\n",
              "    </tr>\n",
              "    <tr>\n",
              "      <th>2024-06-14</th>\n",
              "      <td>1060.0</td>\n",
              "    </tr>\n",
              "    <tr>\n",
              "      <th>2024-06-19</th>\n",
              "      <td>1005.0</td>\n",
              "    </tr>\n",
              "    <tr>\n",
              "      <th>2024-06-20</th>\n",
              "      <td>1045.0</td>\n",
              "    </tr>\n",
              "  </tbody>\n",
              "</table>\n",
              "</div>"
            ],
            "text/plain": [
              "             Close\n",
              "Date              \n",
              "2024-06-12  1115.0\n",
              "2024-06-13  1120.0\n",
              "2024-06-14  1060.0\n",
              "2024-06-19  1005.0\n",
              "2024-06-20  1045.0"
            ]
          },
          "execution_count": 9,
          "metadata": {},
          "output_type": "execute_result"
        }
      ],
      "source": [
        "# set index into date \n",
        "df = df.set_index('Date')['Close']\n",
        "df = pd.DataFrame(df)\n",
        "\n",
        "# show dataframe\n",
        "df.head()"
      ]
    },
    {
      "cell_type": "code",
      "execution_count": 10,
      "metadata": {
        "colab": {
          "base_uri": "https://localhost:8080/",
          "height": 465
        },
        "id": "y22Nm4VNCYYE",
        "outputId": "c82bd0f7-da73-4f27-d849-07d9dced1fa4"
      },
      "outputs": [
        {
          "data": {
            "image/png": "[encoded data removed]",
            "text/plain": [
              "<Figure size 1000x500 with 1 Axes>"
            ]
          },
          "metadata": {},
          "output_type": "display_data"
        }
      ],
      "source": [
        "# data visualization\n",
        "df.plot(figsize=(10,5))\n",
        "plt.show()"
      ]
    },
    {
      "cell_type": "code",
      "execution_count": 11,
      "metadata": {
        "colab": {
          "base_uri": "https://localhost:8080/",
          "height": 791
        },
        "id": "oLtKl6qyjIyH",
        "outputId": "6f0eddcc-78ff-4439-dcf3-3ccc22c832a7"
      },
      "outputs": [
        {
          "name": "stderr",
          "output_type": "stream",
          "text": [
            "C:\\Users\\THINKPAD X1 CAROBON\\AppData\\Local\\Temp\\ipykernel_28720\\3200419598.py:9: FutureWarning: Series.fillna with 'method' is deprecated and will raise in a future version. Use obj.ffill() or obj.bfill() instead.\n",
            "  df['Close'] = df['Close'].fillna(method='ffill')\n"
          ]
        },
        {
          "data": {
            "text/plain": [
              "<Figure size 640x480 with 0 Axes>"
            ]
          },
          "metadata": {},
          "output_type": "display_data"
        },
        {
          "data": {
            "image/png": "[encoded data removed]",
            "text/plain": [
              "<Figure size 1600x900 with 4 Axes>"
            ]
          },
          "metadata": {},
          "output_type": "display_data"
        }
      ],
      "source": [
        "# handling missing value with mean\n",
        "df['Close'] = df['Close'].fillna(df['Close'].mean())\n",
        "\n",
        "# Convert the index to DatetimeIndex and infer the frequency\n",
        "df.index = pd.to_datetime(df.index)  # Assuming the index still contains date strings\n",
        "df = df.asfreq(pd.infer_freq(df.index)) # Infer the frequency\n",
        "\n",
        "# Check and handle any remaining missing values after frequency inference\n",
        "df['Close'] = df['Close'].fillna(method='ffill')\n",
        "\n",
        "# decompose the components from the time series.\n",
        "result = seasonal_decompose(df['Close'], model='multiplicative')\n",
        "fig = plt.figure()\n",
        "fig = result.plot()\n",
        "fig.set_size_inches(16, 9)\n",
        "plt.show()"
      ]
    },
    {
      "cell_type": "markdown",
      "metadata": {
        "id": "MTRt0lFnixn2"
      },
      "source": [
        "# Stasionary"
      ]
    },
    {
      "cell_type": "code",
      "execution_count": 12,
      "metadata": {
        "id": "n5xZGc_jwuPa"
      },
      "outputs": [],
      "source": [
        "# create function to check stationarity\n",
        "def check_stationarity(series):\n",
        "\n",
        "    result = adfuller(series.values)\n",
        "\n",
        "    print('ADF Statistic: %f' % result[0])\n",
        "    print('p-value: %f' % result[1])\n",
        "    print('Critical Values:')\n",
        "    for key, value in result[4].items():\n",
        "        print('\\t%s: %.3f' % (key, value))\n",
        "\n",
        "    if (result[1] <= 0.05) & (result[4]['5%'] > result[0]):\n",
        "        print(\"\\u001b[32mStationary\\u001b[0m\")\n",
        "    else:\n",
        "        print(\"\\x1b[31mNon-stationary\\x1b[0m\")"
      ]
    },
    {
      "cell_type": "code",
      "execution_count": 13,
      "metadata": {
        "colab": {
          "base_uri": "https://localhost:8080/"
        },
        "id": "Goyv5Ynt2AwA",
        "outputId": "4fa49d1b-9e25-4517-c2b1-d0fe9959b35e"
      },
      "outputs": [
        {
          "name": "stdout",
          "output_type": "stream",
          "text": [
            "ADF Statistic: -1.595640\n",
            "p-value: 0.485783\n",
            "Critical Values:\n",
            "\t1%: -3.504\n",
            "\t5%: -2.894\n",
            "\t10%: -2.584\n",
            "\u001b[31mNon-stationary\u001b[0m\n"
          ]
        }
      ],
      "source": [
        "# check stationarity of the dataset\n",
        "check_stationarity(df['Close'])"
      ]
    },
    {
      "cell_type": "code",
      "execution_count": 14,
      "metadata": {},
      "outputs": [
        {
          "name": "stdout",
          "output_type": "stream",
          "text": [
            "ADF Statistic: -2.547315\n",
            "p-value: 0.104382\n",
            "Critical Values:\n",
            "\t1%: -3.515\n",
            "\t5%: -2.898\n",
            "\t10%: -2.586\n",
            "\u001b[31mNon-stationary\u001b[0m\n"
          ]
        }
      ],
      "source": [
        "# perform first order differencing\n",
        "diff1 = df.diff().dropna()\n",
        "check_stationarity(diff1)"
      ]
    },
    {
      "cell_type": "code",
      "execution_count": 15,
      "metadata": {},
      "outputs": [
        {
          "name": "stdout",
          "output_type": "stream",
          "text": [
            "ADF Statistic: -4.431245\n",
            "p-value: 0.000261\n",
            "Critical Values:\n",
            "\t1%: -3.516\n",
            "\t5%: -2.899\n",
            "\t10%: -2.587\n",
            "\u001b[32mStationary\u001b[0m\n"
          ]
        }
      ],
      "source": [
        "# perform second order differencing\n",
        "diff2 = diff1.diff().dropna()\n",
        "check_stationarity(diff2)"
      ]
    },
    {
      "cell_type": "markdown",
      "metadata": {
        "id": "AEczysjG-fHi"
      },
      "source": [
        "# Modeling"
      ]
    },
    {
      "cell_type": "code",
      "execution_count": 16,
      "metadata": {
        "colab": {
          "base_uri": "https://localhost:8080/"
        },
        "id": "zrZCZcK2kxZc",
        "outputId": "23470b16-6c5b-446d-8669-1fef6f5208e8"
      },
      "outputs": [
        {
          "name": "stdout",
          "output_type": "stream",
          "text": [
            "Train size :  (65, 1)\n",
            "Test size :  (28, 1)\n"
          ]
        }
      ],
      "source": [
        "# splitting dataset\n",
        "train = df[:65]\n",
        "test = df[65:]\n",
        "\n",
        "print('Train size : ', train.shape)\n",
        "print('Test size : ', test.shape)"
      ]
    },
    {
      "cell_type": "code",
      "execution_count": 17,
      "metadata": {
        "id": "FtgjL1mg4Ek3"
      },
      "outputs": [],
      "source": [
        "# create ARIMA function to find best model\n",
        "def find_best_model(train, num_p, num_d, num_q):\n",
        "  df = pd.DataFrame()\n",
        "  # default value\n",
        "  pdq = [[],[],[]]\n",
        "  aic = []\n",
        "  for p in range(num_p + 1): #plus one is to make the range up to num_p since python range only ranging from 0 to N-1\n",
        "    for d in range(num_d + 1):\n",
        "      for q in range(num_q + 1):\n",
        "        try: #Using exception to avoid the error while training the model with certain p and q value\n",
        "          model = ARIMA(train, order=(p, d, q))\n",
        "          result = model.fit()\n",
        "          pdq[0].append(p)\n",
        "          pdq[1].append(d)\n",
        "          pdq[2].append(q)\n",
        "          aic.append(result.aic)\n",
        "        except:\n",
        "          pass #If there is an error caused by the calculation, it will be skipped to the next iteration\n",
        "\n",
        "  df['p'] = pdq[0]\n",
        "  df['d'] = pdq[1]\n",
        "  df['q'] = pdq[2]\n",
        "  df['AIC'] = aic\n",
        "\n",
        "  df.sort_values('AIC', inplace=True)\n",
        "\n",
        "  return df.p.iloc[0], df.d.iloc[0], df.q.iloc[0], df.AIC.iloc[0], df"
      ]
    },
    {
      "cell_type": "code",
      "execution_count": 18,
      "metadata": {
        "colab": {
          "base_uri": "https://localhost:8080/"
        },
        "id": "J1H4vLXD44A_",
        "outputId": "d581ec12-bb68-4829-e2b6-894dbb4d8619"
      },
      "outputs": [
        {
          "name": "stderr",
          "output_type": "stream",
          "text": [
            "c:\\Users\\THINKPAD X1 CAROBON\\anaconda3\\Lib\\site-packages\\statsmodels\\tsa\\statespace\\sarimax.py:978: UserWarning: Non-invertible starting MA parameters found. Using zeros as starting parameters.\n",
            "  warn('Non-invertible starting MA parameters found.'\n",
            "c:\\Users\\THINKPAD X1 CAROBON\\anaconda3\\Lib\\site-packages\\statsmodels\\tsa\\statespace\\sarimax.py:978: UserWarning: Non-invertible starting MA parameters found. Using zeros as starting parameters.\n",
            "  warn('Non-invertible starting MA parameters found.'\n",
            "c:\\Users\\THINKPAD X1 CAROBON\\anaconda3\\Lib\\site-packages\\statsmodels\\tsa\\statespace\\sarimax.py:978: UserWarning: Non-invertible starting MA parameters found. Using zeros as starting parameters.\n",
            "  warn('Non-invertible starting MA parameters found.'\n",
            "c:\\Users\\THINKPAD X1 CAROBON\\anaconda3\\Lib\\site-packages\\statsmodels\\tsa\\statespace\\sarimax.py:978: UserWarning: Non-invertible starting MA parameters found. Using zeros as starting parameters.\n",
            "  warn('Non-invertible starting MA parameters found.'\n",
            "c:\\Users\\THINKPAD X1 CAROBON\\anaconda3\\Lib\\site-packages\\statsmodels\\tsa\\statespace\\sarimax.py:978: UserWarning: Non-invertible starting MA parameters found. Using zeros as starting parameters.\n",
            "  warn('Non-invertible starting MA parameters found.'\n",
            "c:\\Users\\THINKPAD X1 CAROBON\\anaconda3\\Lib\\site-packages\\statsmodels\\base\\model.py:607: ConvergenceWarning: Maximum Likelihood optimization failed to converge. Check mle_retvals\n",
            "  warnings.warn(\"Maximum Likelihood optimization failed to \"\n",
            "c:\\Users\\THINKPAD X1 CAROBON\\anaconda3\\Lib\\site-packages\\statsmodels\\tsa\\statespace\\sarimax.py:978: UserWarning: Non-invertible starting MA parameters found. Using zeros as starting parameters.\n",
            "  warn('Non-invertible starting MA parameters found.'\n",
            "c:\\Users\\THINKPAD X1 CAROBON\\anaconda3\\Lib\\site-packages\\statsmodels\\tsa\\statespace\\sarimax.py:978: UserWarning: Non-invertible starting MA parameters found. Using zeros as starting parameters.\n",
            "  warn('Non-invertible starting MA parameters found.'\n",
            "c:\\Users\\THINKPAD X1 CAROBON\\anaconda3\\Lib\\site-packages\\statsmodels\\tsa\\statespace\\sarimax.py:978: UserWarning: Non-invertible starting MA parameters found. Using zeros as starting parameters.\n",
            "  warn('Non-invertible starting MA parameters found.'\n",
            "c:\\Users\\THINKPAD X1 CAROBON\\anaconda3\\Lib\\site-packages\\statsmodels\\tsa\\statespace\\sarimax.py:978: UserWarning: Non-invertible starting MA parameters found. Using zeros as starting parameters.\n",
            "  warn('Non-invertible starting MA parameters found.'\n",
            "c:\\Users\\THINKPAD X1 CAROBON\\anaconda3\\Lib\\site-packages\\statsmodels\\tsa\\statespace\\sarimax.py:978: UserWarning: Non-invertible starting MA parameters found. Using zeros as starting parameters.\n",
            "  warn('Non-invertible starting MA parameters found.'\n",
            "c:\\Users\\THINKPAD X1 CAROBON\\anaconda3\\Lib\\site-packages\\statsmodels\\tsa\\statespace\\sarimax.py:978: UserWarning: Non-invertible starting MA parameters found. Using zeros as starting parameters.\n",
            "  warn('Non-invertible starting MA parameters found.'\n",
            "c:\\Users\\THINKPAD X1 CAROBON\\anaconda3\\Lib\\site-packages\\statsmodels\\tsa\\statespace\\sarimax.py:978: UserWarning: Non-invertible starting MA parameters found. Using zeros as starting parameters.\n",
            "  warn('Non-invertible starting MA parameters found.'\n",
            "c:\\Users\\THINKPAD X1 CAROBON\\anaconda3\\Lib\\site-packages\\statsmodels\\tsa\\statespace\\sarimax.py:978: UserWarning: Non-invertible starting MA parameters found. Using zeros as starting parameters.\n",
            "  warn('Non-invertible starting MA parameters found.'\n",
            "c:\\Users\\THINKPAD X1 CAROBON\\anaconda3\\Lib\\site-packages\\statsmodels\\tsa\\statespace\\sarimax.py:978: UserWarning: Non-invertible starting MA parameters found. Using zeros as starting parameters.\n",
            "  warn('Non-invertible starting MA parameters found.'\n",
            "c:\\Users\\THINKPAD X1 CAROBON\\anaconda3\\Lib\\site-packages\\statsmodels\\tsa\\statespace\\sarimax.py:978: UserWarning: Non-invertible starting MA parameters found. Using zeros as starting parameters.\n",
            "  warn('Non-invertible starting MA parameters found.'\n",
            "c:\\Users\\THINKPAD X1 CAROBON\\anaconda3\\Lib\\site-packages\\statsmodels\\tsa\\statespace\\sarimax.py:978: UserWarning: Non-invertible starting MA parameters found. Using zeros as starting parameters.\n",
            "  warn('Non-invertible starting MA parameters found.'\n",
            "c:\\Users\\THINKPAD X1 CAROBON\\anaconda3\\Lib\\site-packages\\statsmodels\\tsa\\statespace\\sarimax.py:966: UserWarning: Non-stationary starting autoregressive parameters found. Using zeros as starting parameters.\n",
            "  warn('Non-stationary starting autoregressive parameters'\n",
            "c:\\Users\\THINKPAD X1 CAROBON\\anaconda3\\Lib\\site-packages\\statsmodels\\tsa\\statespace\\sarimax.py:978: UserWarning: Non-invertible starting MA parameters found. Using zeros as starting parameters.\n",
            "  warn('Non-invertible starting MA parameters found.'\n",
            "c:\\Users\\THINKPAD X1 CAROBON\\anaconda3\\Lib\\site-packages\\statsmodels\\base\\model.py:607: ConvergenceWarning: Maximum Likelihood optimization failed to converge. Check mle_retvals\n",
            "  warnings.warn(\"Maximum Likelihood optimization failed to \"\n",
            "c:\\Users\\THINKPAD X1 CAROBON\\anaconda3\\Lib\\site-packages\\statsmodels\\base\\model.py:607: ConvergenceWarning: Maximum Likelihood optimization failed to converge. Check mle_retvals\n",
            "  warnings.warn(\"Maximum Likelihood optimization failed to \"\n",
            "c:\\Users\\THINKPAD X1 CAROBON\\anaconda3\\Lib\\site-packages\\statsmodels\\base\\model.py:607: ConvergenceWarning: Maximum Likelihood optimization failed to converge. Check mle_retvals\n",
            "  warnings.warn(\"Maximum Likelihood optimization failed to \"\n",
            "c:\\Users\\THINKPAD X1 CAROBON\\anaconda3\\Lib\\site-packages\\statsmodels\\base\\model.py:607: ConvergenceWarning: Maximum Likelihood optimization failed to converge. Check mle_retvals\n",
            "  warnings.warn(\"Maximum Likelihood optimization failed to \"\n",
            "c:\\Users\\THINKPAD X1 CAROBON\\anaconda3\\Lib\\site-packages\\statsmodels\\tsa\\statespace\\sarimax.py:978: UserWarning: Non-invertible starting MA parameters found. Using zeros as starting parameters.\n",
            "  warn('Non-invertible starting MA parameters found.'\n",
            "c:\\Users\\THINKPAD X1 CAROBON\\anaconda3\\Lib\\site-packages\\statsmodels\\base\\model.py:607: ConvergenceWarning: Maximum Likelihood optimization failed to converge. Check mle_retvals\n",
            "  warnings.warn(\"Maximum Likelihood optimization failed to \"\n",
            "c:\\Users\\THINKPAD X1 CAROBON\\anaconda3\\Lib\\site-packages\\statsmodels\\tsa\\statespace\\sarimax.py:978: UserWarning: Non-invertible starting MA parameters found. Using zeros as starting parameters.\n",
            "  warn('Non-invertible starting MA parameters found.'\n",
            "c:\\Users\\THINKPAD X1 CAROBON\\anaconda3\\Lib\\site-packages\\statsmodels\\base\\model.py:607: ConvergenceWarning: Maximum Likelihood optimization failed to converge. Check mle_retvals\n",
            "  warnings.warn(\"Maximum Likelihood optimization failed to \"\n",
            "c:\\Users\\THINKPAD X1 CAROBON\\anaconda3\\Lib\\site-packages\\statsmodels\\tsa\\statespace\\sarimax.py:978: UserWarning: Non-invertible starting MA parameters found. Using zeros as starting parameters.\n",
            "  warn('Non-invertible starting MA parameters found.'\n",
            "c:\\Users\\THINKPAD X1 CAROBON\\anaconda3\\Lib\\site-packages\\statsmodels\\tsa\\statespace\\sarimax.py:978: UserWarning: Non-invertible starting MA parameters found. Using zeros as starting parameters.\n",
            "  warn('Non-invertible starting MA parameters found.'\n",
            "c:\\Users\\THINKPAD X1 CAROBON\\anaconda3\\Lib\\site-packages\\statsmodels\\base\\model.py:607: ConvergenceWarning: Maximum Likelihood optimization failed to converge. Check mle_retvals\n",
            "  warnings.warn(\"Maximum Likelihood optimization failed to \"\n",
            "c:\\Users\\THINKPAD X1 CAROBON\\anaconda3\\Lib\\site-packages\\statsmodels\\base\\model.py:607: ConvergenceWarning: Maximum Likelihood optimization failed to converge. Check mle_retvals\n",
            "  warnings.warn(\"Maximum Likelihood optimization failed to \"\n",
            "c:\\Users\\THINKPAD X1 CAROBON\\anaconda3\\Lib\\site-packages\\statsmodels\\base\\model.py:607: ConvergenceWarning: Maximum Likelihood optimization failed to converge. Check mle_retvals\n",
            "  warnings.warn(\"Maximum Likelihood optimization failed to \"\n",
            "c:\\Users\\THINKPAD X1 CAROBON\\anaconda3\\Lib\\site-packages\\statsmodels\\base\\model.py:607: ConvergenceWarning: Maximum Likelihood optimization failed to converge. Check mle_retvals\n",
            "  warnings.warn(\"Maximum Likelihood optimization failed to \"\n",
            "c:\\Users\\THINKPAD X1 CAROBON\\anaconda3\\Lib\\site-packages\\statsmodels\\tsa\\statespace\\sarimax.py:966: UserWarning: Non-stationary starting autoregressive parameters found. Using zeros as starting parameters.\n",
            "  warn('Non-stationary starting autoregressive parameters'\n",
            "c:\\Users\\THINKPAD X1 CAROBON\\anaconda3\\Lib\\site-packages\\statsmodels\\tsa\\statespace\\sarimax.py:978: UserWarning: Non-invertible starting MA parameters found. Using zeros as starting parameters.\n",
            "  warn('Non-invertible starting MA parameters found.'\n",
            "c:\\Users\\THINKPAD X1 CAROBON\\anaconda3\\Lib\\site-packages\\statsmodels\\base\\model.py:607: ConvergenceWarning: Maximum Likelihood optimization failed to converge. Check mle_retvals\n",
            "  warnings.warn(\"Maximum Likelihood optimization failed to \"\n",
            "c:\\Users\\THINKPAD X1 CAROBON\\anaconda3\\Lib\\site-packages\\statsmodels\\base\\model.py:607: ConvergenceWarning: Maximum Likelihood optimization failed to converge. Check mle_retvals\n",
            "  warnings.warn(\"Maximum Likelihood optimization failed to \"\n",
            "c:\\Users\\THINKPAD X1 CAROBON\\anaconda3\\Lib\\site-packages\\statsmodels\\base\\model.py:607: ConvergenceWarning: Maximum Likelihood optimization failed to converge. Check mle_retvals\n",
            "  warnings.warn(\"Maximum Likelihood optimization failed to \"\n",
            "c:\\Users\\THINKPAD X1 CAROBON\\anaconda3\\Lib\\site-packages\\statsmodels\\base\\model.py:607: ConvergenceWarning: Maximum Likelihood optimization failed to converge. Check mle_retvals\n",
            "  warnings.warn(\"Maximum Likelihood optimization failed to \"\n",
            "c:\\Users\\THINKPAD X1 CAROBON\\anaconda3\\Lib\\site-packages\\statsmodels\\tsa\\statespace\\sarimax.py:978: UserWarning: Non-invertible starting MA parameters found. Using zeros as starting parameters.\n",
            "  warn('Non-invertible starting MA parameters found.'\n",
            "c:\\Users\\THINKPAD X1 CAROBON\\anaconda3\\Lib\\site-packages\\statsmodels\\base\\model.py:607: ConvergenceWarning: Maximum Likelihood optimization failed to converge. Check mle_retvals\n",
            "  warnings.warn(\"Maximum Likelihood optimization failed to \"\n",
            "c:\\Users\\THINKPAD X1 CAROBON\\anaconda3\\Lib\\site-packages\\statsmodels\\base\\model.py:607: ConvergenceWarning: Maximum Likelihood optimization failed to converge. Check mle_retvals\n",
            "  warnings.warn(\"Maximum Likelihood optimization failed to \"\n",
            "c:\\Users\\THINKPAD X1 CAROBON\\anaconda3\\Lib\\site-packages\\statsmodels\\tsa\\statespace\\sarimax.py:978: UserWarning: Non-invertible starting MA parameters found. Using zeros as starting parameters.\n",
            "  warn('Non-invertible starting MA parameters found.'\n",
            "c:\\Users\\THINKPAD X1 CAROBON\\anaconda3\\Lib\\site-packages\\statsmodels\\tsa\\statespace\\sarimax.py:978: UserWarning: Non-invertible starting MA parameters found. Using zeros as starting parameters.\n",
            "  warn('Non-invertible starting MA parameters found.'\n",
            "c:\\Users\\THINKPAD X1 CAROBON\\anaconda3\\Lib\\site-packages\\statsmodels\\tsa\\statespace\\sarimax.py:978: UserWarning: Non-invertible starting MA parameters found. Using zeros as starting parameters.\n",
            "  warn('Non-invertible starting MA parameters found.'\n",
            "c:\\Users\\THINKPAD X1 CAROBON\\anaconda3\\Lib\\site-packages\\statsmodels\\tsa\\statespace\\sarimax.py:978: UserWarning: Non-invertible starting MA parameters found. Using zeros as starting parameters.\n",
            "  warn('Non-invertible starting MA parameters found.'\n",
            "c:\\Users\\THINKPAD X1 CAROBON\\anaconda3\\Lib\\site-packages\\statsmodels\\base\\model.py:607: ConvergenceWarning: Maximum Likelihood optimization failed to converge. Check mle_retvals\n",
            "  warnings.warn(\"Maximum Likelihood optimization failed to \"\n",
            "c:\\Users\\THINKPAD X1 CAROBON\\anaconda3\\Lib\\site-packages\\statsmodels\\tsa\\statespace\\sarimax.py:966: UserWarning: Non-stationary starting autoregressive parameters found. Using zeros as starting parameters.\n",
            "  warn('Non-stationary starting autoregressive parameters'\n",
            "c:\\Users\\THINKPAD X1 CAROBON\\anaconda3\\Lib\\site-packages\\statsmodels\\tsa\\statespace\\sarimax.py:978: UserWarning: Non-invertible starting MA parameters found. Using zeros as starting parameters.\n",
            "  warn('Non-invertible starting MA parameters found.'\n",
            "c:\\Users\\THINKPAD X1 CAROBON\\anaconda3\\Lib\\site-packages\\statsmodels\\base\\model.py:607: ConvergenceWarning: Maximum Likelihood optimization failed to converge. Check mle_retvals\n",
            "  warnings.warn(\"Maximum Likelihood optimization failed to \"\n",
            "c:\\Users\\THINKPAD X1 CAROBON\\anaconda3\\Lib\\site-packages\\statsmodels\\base\\model.py:607: ConvergenceWarning: Maximum Likelihood optimization failed to converge. Check mle_retvals\n",
            "  warnings.warn(\"Maximum Likelihood optimization failed to \"\n",
            "c:\\Users\\THINKPAD X1 CAROBON\\anaconda3\\Lib\\site-packages\\statsmodels\\base\\model.py:607: ConvergenceWarning: Maximum Likelihood optimization failed to converge. Check mle_retvals\n",
            "  warnings.warn(\"Maximum Likelihood optimization failed to \"\n",
            "c:\\Users\\THINKPAD X1 CAROBON\\anaconda3\\Lib\\site-packages\\statsmodels\\tsa\\statespace\\sarimax.py:966: UserWarning: Non-stationary starting autoregressive parameters found. Using zeros as starting parameters.\n",
            "  warn('Non-stationary starting autoregressive parameters'\n",
            "c:\\Users\\THINKPAD X1 CAROBON\\anaconda3\\Lib\\site-packages\\statsmodels\\tsa\\statespace\\sarimax.py:978: UserWarning: Non-invertible starting MA parameters found. Using zeros as starting parameters.\n",
            "  warn('Non-invertible starting MA parameters found.'\n",
            "c:\\Users\\THINKPAD X1 CAROBON\\anaconda3\\Lib\\site-packages\\statsmodels\\base\\model.py:607: ConvergenceWarning: Maximum Likelihood optimization failed to converge. Check mle_retvals\n",
            "  warnings.warn(\"Maximum Likelihood optimization failed to \"\n",
            "c:\\Users\\THINKPAD X1 CAROBON\\anaconda3\\Lib\\site-packages\\statsmodels\\base\\model.py:607: ConvergenceWarning: Maximum Likelihood optimization failed to converge. Check mle_retvals\n",
            "  warnings.warn(\"Maximum Likelihood optimization failed to \"\n",
            "c:\\Users\\THINKPAD X1 CAROBON\\anaconda3\\Lib\\site-packages\\statsmodels\\base\\model.py:607: ConvergenceWarning: Maximum Likelihood optimization failed to converge. Check mle_retvals\n",
            "  warnings.warn(\"Maximum Likelihood optimization failed to \"\n",
            "c:\\Users\\THINKPAD X1 CAROBON\\anaconda3\\Lib\\site-packages\\statsmodels\\base\\model.py:607: ConvergenceWarning: Maximum Likelihood optimization failed to converge. Check mle_retvals\n",
            "  warnings.warn(\"Maximum Likelihood optimization failed to \"\n",
            "c:\\Users\\THINKPAD X1 CAROBON\\anaconda3\\Lib\\site-packages\\statsmodels\\base\\model.py:607: ConvergenceWarning: Maximum Likelihood optimization failed to converge. Check mle_retvals\n",
            "  warnings.warn(\"Maximum Likelihood optimization failed to \"\n",
            "c:\\Users\\THINKPAD X1 CAROBON\\anaconda3\\Lib\\site-packages\\statsmodels\\tsa\\statespace\\sarimax.py:978: UserWarning: Non-invertible starting MA parameters found. Using zeros as starting parameters.\n",
            "  warn('Non-invertible starting MA parameters found.'\n",
            "c:\\Users\\THINKPAD X1 CAROBON\\anaconda3\\Lib\\site-packages\\statsmodels\\base\\model.py:607: ConvergenceWarning: Maximum Likelihood optimization failed to converge. Check mle_retvals\n",
            "  warnings.warn(\"Maximum Likelihood optimization failed to \"\n",
            "c:\\Users\\THINKPAD X1 CAROBON\\anaconda3\\Lib\\site-packages\\statsmodels\\base\\model.py:607: ConvergenceWarning: Maximum Likelihood optimization failed to converge. Check mle_retvals\n",
            "  warnings.warn(\"Maximum Likelihood optimization failed to \"\n",
            "c:\\Users\\THINKPAD X1 CAROBON\\anaconda3\\Lib\\site-packages\\statsmodels\\tsa\\statespace\\sarimax.py:978: UserWarning: Non-invertible starting MA parameters found. Using zeros as starting parameters.\n",
            "  warn('Non-invertible starting MA parameters found.'\n",
            "c:\\Users\\THINKPAD X1 CAROBON\\anaconda3\\Lib\\site-packages\\statsmodels\\base\\model.py:607: ConvergenceWarning: Maximum Likelihood optimization failed to converge. Check mle_retvals\n",
            "  warnings.warn(\"Maximum Likelihood optimization failed to \"\n",
            "c:\\Users\\THINKPAD X1 CAROBON\\anaconda3\\Lib\\site-packages\\statsmodels\\tsa\\statespace\\sarimax.py:978: UserWarning: Non-invertible starting MA parameters found. Using zeros as starting parameters.\n",
            "  warn('Non-invertible starting MA parameters found.'\n",
            "c:\\Users\\THINKPAD X1 CAROBON\\anaconda3\\Lib\\site-packages\\statsmodels\\tsa\\statespace\\sarimax.py:978: UserWarning: Non-invertible starting MA parameters found. Using zeros as starting parameters.\n",
            "  warn('Non-invertible starting MA parameters found.'\n",
            "c:\\Users\\THINKPAD X1 CAROBON\\anaconda3\\Lib\\site-packages\\statsmodels\\tsa\\statespace\\sarimax.py:978: UserWarning: Non-invertible starting MA parameters found. Using zeros as starting parameters.\n",
            "  warn('Non-invertible starting MA parameters found.'\n",
            "c:\\Users\\THINKPAD X1 CAROBON\\anaconda3\\Lib\\site-packages\\statsmodels\\tsa\\statespace\\sarimax.py:978: UserWarning: Non-invertible starting MA parameters found. Using zeros as starting parameters.\n",
            "  warn('Non-invertible starting MA parameters found.'\n"
          ]
        },
        {
          "data": {
            "text/plain": [
              "(4,\n",
              " 1,\n",
              " 4,\n",
              " 813.7124050689463,\n",
              "      p  d  q          AIC\n",
              " 109  4  1  4   813.712405\n",
              " 64   2  2  4   814.887228\n",
              " 88   3  2  3   815.101155\n",
              " 89   3  2  4   816.789531\n",
              " 69   2  3  4   817.870688\n",
              " ..  .. .. ..          ...\n",
              " 70   2  4  0   961.343004\n",
              " 1    0  0  1   962.318325\n",
              " 45   1  4  0   999.241155\n",
              " 20   0  4  0  1046.559062\n",
              " 0    0  0  0  1053.810960\n",
              " \n",
              " [125 rows x 4 columns])"
            ]
          },
          "execution_count": 18,
          "metadata": {},
          "output_type": "execute_result"
        }
      ],
      "source": [
        "# find best model of ARIMA with combinations of p=4, d=4, q=4\n",
        "find_best_model(df, 4, 4, 4)"
      ]
    },
    {
      "cell_type": "markdown",
      "metadata": {
        "id": "kQRibo5XX4SH"
      },
      "source": [
        "# Training and Evaluation with ARIMA"
      ]
    },
    {
      "cell_type": "code",
      "execution_count": 19,
      "metadata": {
        "colab": {
          "base_uri": "https://localhost:8080/"
        },
        "id": "kIyd_Brd5LVd",
        "outputId": "b66fbfc1-e916-4c92-af4f-7fb48bf2189b"
      },
      "outputs": [
        {
          "name": "stdout",
          "output_type": "stream",
          "text": [
            "The AIC is  813.7124050689463\n"
          ]
        },
        {
          "name": "stderr",
          "output_type": "stream",
          "text": [
            "c:\\Users\\THINKPAD X1 CAROBON\\anaconda3\\Lib\\site-packages\\statsmodels\\base\\model.py:607: ConvergenceWarning: Maximum Likelihood optimization failed to converge. Check mle_retvals\n",
            "  warnings.warn(\"Maximum Likelihood optimization failed to \"\n"
          ]
        }
      ],
      "source": [
        "# train ARIMA with best combinations\n",
        "arima = ARIMA(df, order=(4, 1, 4)).fit()\n",
        "print('The AIC is ', arima.aic)"
      ]
    },
    {
      "cell_type": "code",
      "execution_count": 20,
      "metadata": {
        "colab": {
          "base_uri": "https://localhost:8080/",
          "height": 576
        },
        "id": "EBnOf-C66AlM",
        "outputId": "2ed2044e-c5ce-4dfb-9610-9b83a1112a90"
      },
      "outputs": [
        {
          "data": {
            "text/html": [
              "<div>\n",
              "<style scoped>\n",
              "    .dataframe tbody tr th:only-of-type {\n",
              "        vertical-align: middle;\n",
              "    }\n",
              "\n",
              "    .dataframe tbody tr th {\n",
              "        vertical-align: top;\n",
              "    }\n",
              "\n",
              "    .dataframe thead th {\n",
              "        text-align: right;\n",
              "    }\n",
              "</style>\n",
              "<table border=\"1\" class=\"dataframe\">\n",
              "  <thead>\n",
              "    <tr style=\"text-align: right;\">\n",
              "      <th></th>\n",
              "      <th>Close</th>\n",
              "      <th>Close_predict</th>\n",
              "    </tr>\n",
              "    <tr>\n",
              "      <th>Date</th>\n",
              "      <th></th>\n",
              "      <th></th>\n",
              "    </tr>\n",
              "  </thead>\n",
              "  <tbody>\n",
              "    <tr>\n",
              "      <th>2024-08-16</th>\n",
              "      <td>1230.0</td>\n",
              "      <td>1234.751768</td>\n",
              "    </tr>\n",
              "    <tr>\n",
              "      <th>2024-08-17</th>\n",
              "      <td>1230.0</td>\n",
              "      <td>1242.028551</td>\n",
              "    </tr>\n",
              "    <tr>\n",
              "      <th>2024-08-18</th>\n",
              "      <td>1230.0</td>\n",
              "      <td>1234.416694</td>\n",
              "    </tr>\n",
              "    <tr>\n",
              "      <th>2024-08-19</th>\n",
              "      <td>1215.0</td>\n",
              "      <td>1228.304218</td>\n",
              "    </tr>\n",
              "    <tr>\n",
              "      <th>2024-08-20</th>\n",
              "      <td>1205.0</td>\n",
              "      <td>1233.795557</td>\n",
              "    </tr>\n",
              "    <tr>\n",
              "      <th>2024-08-21</th>\n",
              "      <td>1200.0</td>\n",
              "      <td>1236.382726</td>\n",
              "    </tr>\n",
              "    <tr>\n",
              "      <th>2024-08-22</th>\n",
              "      <td>1190.0</td>\n",
              "      <td>1240.853507</td>\n",
              "    </tr>\n",
              "    <tr>\n",
              "      <th>2024-08-23</th>\n",
              "      <td>1175.0</td>\n",
              "      <td>1233.702131</td>\n",
              "    </tr>\n",
              "    <tr>\n",
              "      <th>2024-08-24</th>\n",
              "      <td>1175.0</td>\n",
              "      <td>1229.333779</td>\n",
              "    </tr>\n",
              "    <tr>\n",
              "      <th>2024-08-25</th>\n",
              "      <td>1175.0</td>\n",
              "      <td>1233.434630</td>\n",
              "    </tr>\n",
              "    <tr>\n",
              "      <th>2024-08-26</th>\n",
              "      <td>1185.0</td>\n",
              "      <td>1237.366992</td>\n",
              "    </tr>\n",
              "    <tr>\n",
              "      <th>2024-08-27</th>\n",
              "      <td>1180.0</td>\n",
              "      <td>1239.825375</td>\n",
              "    </tr>\n",
              "    <tr>\n",
              "      <th>2024-08-28</th>\n",
              "      <td>1155.0</td>\n",
              "      <td>1233.301149</td>\n",
              "    </tr>\n",
              "    <tr>\n",
              "      <th>2024-08-29</th>\n",
              "      <td>1125.0</td>\n",
              "      <td>1229.940503</td>\n",
              "    </tr>\n",
              "    <tr>\n",
              "      <th>2024-08-30</th>\n",
              "      <td>1145.0</td>\n",
              "      <td>1233.516691</td>\n",
              "    </tr>\n",
              "    <tr>\n",
              "      <th>2024-08-31</th>\n",
              "      <td>1145.0</td>\n",
              "      <td>1237.917074</td>\n",
              "    </tr>\n",
              "    <tr>\n",
              "      <th>2024-09-01</th>\n",
              "      <td>1145.0</td>\n",
              "      <td>1238.961770</td>\n",
              "    </tr>\n",
              "    <tr>\n",
              "      <th>2024-09-02</th>\n",
              "      <td>1145.0</td>\n",
              "      <td>1233.034310</td>\n",
              "    </tr>\n",
              "    <tr>\n",
              "      <th>2024-09-03</th>\n",
              "      <td>1130.0</td>\n",
              "      <td>1230.366041</td>\n",
              "    </tr>\n",
              "    <tr>\n",
              "      <th>2024-09-04</th>\n",
              "      <td>1135.0</td>\n",
              "      <td>1233.808399</td>\n",
              "    </tr>\n",
              "    <tr>\n",
              "      <th>2024-09-05</th>\n",
              "      <td>1140.0</td>\n",
              "      <td>1238.186032</td>\n",
              "    </tr>\n",
              "    <tr>\n",
              "      <th>2024-09-06</th>\n",
              "      <td>1130.0</td>\n",
              "      <td>1238.236502</td>\n",
              "    </tr>\n",
              "    <tr>\n",
              "      <th>2024-09-07</th>\n",
              "      <td>1130.0</td>\n",
              "      <td>1232.831110</td>\n",
              "    </tr>\n",
              "    <tr>\n",
              "      <th>2024-09-08</th>\n",
              "      <td>1130.0</td>\n",
              "      <td>1230.724957</td>\n",
              "    </tr>\n",
              "    <tr>\n",
              "      <th>2024-09-09</th>\n",
              "      <td>1130.0</td>\n",
              "      <td>1234.179987</td>\n",
              "    </tr>\n",
              "    <tr>\n",
              "      <th>2024-09-10</th>\n",
              "      <td>1150.0</td>\n",
              "      <td>1238.275671</td>\n",
              "    </tr>\n",
              "    <tr>\n",
              "      <th>2024-09-11</th>\n",
              "      <td>1130.0</td>\n",
              "      <td>1237.617166</td>\n",
              "    </tr>\n",
              "    <tr>\n",
              "      <th>2024-09-12</th>\n",
              "      <td>1140.0</td>\n",
              "      <td>1232.668292</td>\n",
              "    </tr>\n",
              "  </tbody>\n",
              "</table>\n",
              "</div>"
            ],
            "text/plain": [
              "             Close  Close_predict\n",
              "Date                             \n",
              "2024-08-16  1230.0    1234.751768\n",
              "2024-08-17  1230.0    1242.028551\n",
              "2024-08-18  1230.0    1234.416694\n",
              "2024-08-19  1215.0    1228.304218\n",
              "2024-08-20  1205.0    1233.795557\n",
              "2024-08-21  1200.0    1236.382726\n",
              "2024-08-22  1190.0    1240.853507\n",
              "2024-08-23  1175.0    1233.702131\n",
              "2024-08-24  1175.0    1229.333779\n",
              "2024-08-25  1175.0    1233.434630\n",
              "2024-08-26  1185.0    1237.366992\n",
              "2024-08-27  1180.0    1239.825375\n",
              "2024-08-28  1155.0    1233.301149\n",
              "2024-08-29  1125.0    1229.940503\n",
              "2024-08-30  1145.0    1233.516691\n",
              "2024-08-31  1145.0    1237.917074\n",
              "2024-09-01  1145.0    1238.961770\n",
              "2024-09-02  1145.0    1233.034310\n",
              "2024-09-03  1130.0    1230.366041\n",
              "2024-09-04  1135.0    1233.808399\n",
              "2024-09-05  1140.0    1238.186032\n",
              "2024-09-06  1130.0    1238.236502\n",
              "2024-09-07  1130.0    1232.831110\n",
              "2024-09-08  1130.0    1230.724957\n",
              "2024-09-09  1130.0    1234.179987\n",
              "2024-09-10  1150.0    1238.275671\n",
              "2024-09-11  1130.0    1237.617166\n",
              "2024-09-12  1140.0    1232.668292"
            ]
          },
          "execution_count": 20,
          "metadata": {},
          "output_type": "execute_result"
        }
      ],
      "source": [
        "# predict test-set\n",
        "arima_pred_test = arima.predict(start=\"2024-08-16\", end=\"2024-09-12\", dynamic=True)\n",
        "arima_pred_test = pd.DataFrame(arima_pred_test)\n",
        "arima_pred_test.columns=['Close_predict']\n",
        "\n",
        "act_vs_pred_arima = pd.concat([test, arima_pred_test], axis=1)\n",
        "act_vs_pred_arima"
      ]
    },
    {
      "cell_type": "code",
      "execution_count": 21,
      "metadata": {
        "colab": {
          "base_uri": "https://localhost:8080/"
        },
        "id": "UQRlr6HBBWBo",
        "outputId": "97a9a99b-c665-4ac4-c775-097945aebb90"
      },
      "outputs": [
        {
          "name": "stdout",
          "output_type": "stream",
          "text": [
            "MAE test  :  70.81291358155701\n"
          ]
        }
      ],
      "source": [
        "# check the MAE\n",
        "print('MAE test  : ', mean_absolute_error(test, arima_pred_test))"
      ]
    },
    {
      "cell_type": "markdown",
      "metadata": {
        "id": "uJVRcveH-vQO"
      },
      "source": [
        "# Training and Evaluation with SARIMAX"
      ]
    },
    {
      "cell_type": "code",
      "execution_count": 22,
      "metadata": {
        "colab": {
          "base_uri": "https://localhost:8080/",
          "height": 654
        },
        "id": "X9JoNQA7-yF_",
        "outputId": "b1768e28-33f8-4c2f-a23b-9c4415a1cea9"
      },
      "outputs": [
        {
          "name": "stderr",
          "output_type": "stream",
          "text": [
            "c:\\Users\\THINKPAD X1 CAROBON\\anaconda3\\Lib\\site-packages\\statsmodels\\tsa\\statespace\\sarimax.py:866: UserWarning: Too few observations to estimate starting parameters for seasonal ARMA. All parameters except for variances will be set to zeros.\n",
            "  warn('Too few observations to estimate starting parameters%s.'\n",
            "c:\\Users\\THINKPAD X1 CAROBON\\anaconda3\\Lib\\site-packages\\statsmodels\\base\\model.py:607: ConvergenceWarning: Maximum Likelihood optimization failed to converge. Check mle_retvals\n",
            "  warnings.warn(\"Maximum Likelihood optimization failed to \"\n"
          ]
        },
        {
          "data": {
            "text/html": [
              "<table class=\"simpletable\">\n",
              "<caption>SARIMAX Results</caption>\n",
              "<tr>\n",
              "  <th>Dep. Variable:</th>                <td>Close</td>             <th>  No. Observations:  </th>    <td>93</td>   \n",
              "</tr>\n",
              "<tr>\n",
              "  <th>Model:</th>           <td>SARIMAX(4, 1, 4)x(4, 1, 4, 28)</td> <th>  Log Likelihood     </th> <td>-292.454</td>\n",
              "</tr>\n",
              "<tr>\n",
              "  <th>Date:</th>                   <td>Thu, 12 Sep 2024</td>        <th>  AIC                </th>  <td>618.908</td>\n",
              "</tr>\n",
              "<tr>\n",
              "  <th>Time:</th>                       <td>19:15:15</td>            <th>  BIC                </th>  <td>655.609</td>\n",
              "</tr>\n",
              "<tr>\n",
              "  <th>Sample:</th>                    <td>06-12-2024</td>           <th>  HQIC               </th>  <td>633.366</td>\n",
              "</tr>\n",
              "<tr>\n",
              "  <th></th>                          <td>- 09-12-2024</td>          <th>                     </th>     <td> </td>   \n",
              "</tr>\n",
              "<tr>\n",
              "  <th>Covariance Type:</th>               <td>opg</td>              <th>                     </th>     <td> </td>   \n",
              "</tr>\n",
              "</table>\n",
              "<table class=\"simpletable\">\n",
              "<tr>\n",
              "      <td></td>         <th>coef</th>     <th>std err</th>      <th>z</th>      <th>P>|z|</th>  <th>[0.025</th>    <th>0.975]</th>  \n",
              "</tr>\n",
              "<tr>\n",
              "  <th>ar.L1</th>     <td>    0.1529</td> <td>    0.570</td> <td>    0.268</td> <td> 0.788</td> <td>   -0.963</td> <td>    1.269</td>\n",
              "</tr>\n",
              "<tr>\n",
              "  <th>ar.L2</th>     <td>    0.6003</td> <td>    0.293</td> <td>    2.046</td> <td> 0.041</td> <td>    0.025</td> <td>    1.175</td>\n",
              "</tr>\n",
              "<tr>\n",
              "  <th>ar.L3</th>     <td>   -0.0533</td> <td>    0.321</td> <td>   -0.166</td> <td> 0.868</td> <td>   -0.682</td> <td>    0.576</td>\n",
              "</tr>\n",
              "<tr>\n",
              "  <th>ar.L4</th>     <td>   -0.5370</td> <td>    0.498</td> <td>   -1.078</td> <td> 0.281</td> <td>   -1.513</td> <td>    0.439</td>\n",
              "</tr>\n",
              "<tr>\n",
              "  <th>ma.L1</th>     <td>    0.1097</td> <td>   46.267</td> <td>    0.002</td> <td> 0.998</td> <td>  -90.571</td> <td>   90.791</td>\n",
              "</tr>\n",
              "<tr>\n",
              "  <th>ma.L2</th>     <td>   -0.9876</td> <td>   24.468</td> <td>   -0.040</td> <td> 0.968</td> <td>  -48.944</td> <td>   46.969</td>\n",
              "</tr>\n",
              "<tr>\n",
              "  <th>ma.L3</th>     <td>    0.0340</td> <td>   42.214</td> <td>    0.001</td> <td> 0.999</td> <td>  -82.704</td> <td>   82.771</td>\n",
              "</tr>\n",
              "<tr>\n",
              "  <th>ma.L4</th>     <td>    0.9562</td> <td>   49.567</td> <td>    0.019</td> <td> 0.985</td> <td>  -96.193</td> <td>   98.106</td>\n",
              "</tr>\n",
              "<tr>\n",
              "  <th>ar.S.L28</th>  <td>   -0.3641</td> <td> 6.55e+04</td> <td>-5.56e-06</td> <td> 1.000</td> <td>-1.28e+05</td> <td> 1.28e+05</td>\n",
              "</tr>\n",
              "<tr>\n",
              "  <th>ar.S.L56</th>  <td>    0.1469</td> <td> 8.85e+04</td> <td> 1.66e-06</td> <td> 1.000</td> <td>-1.73e+05</td> <td> 1.73e+05</td>\n",
              "</tr>\n",
              "<tr>\n",
              "  <th>ar.S.L84</th>  <td>    0.0141</td> <td> 4.42e+04</td> <td> 3.19e-07</td> <td> 1.000</td> <td>-8.66e+04</td> <td> 8.66e+04</td>\n",
              "</tr>\n",
              "<tr>\n",
              "  <th>ar.S.L112</th> <td>    0.0864</td> <td> 3.61e+04</td> <td> 2.39e-06</td> <td> 1.000</td> <td>-7.07e+04</td> <td> 7.07e+04</td>\n",
              "</tr>\n",
              "<tr>\n",
              "  <th>ma.S.L28</th>  <td>   -0.3645</td> <td> 6.54e+04</td> <td>-5.58e-06</td> <td> 1.000</td> <td>-1.28e+05</td> <td> 1.28e+05</td>\n",
              "</tr>\n",
              "<tr>\n",
              "  <th>ma.S.L56</th>  <td>   -0.3946</td> <td> 8.51e+04</td> <td>-4.64e-06</td> <td> 1.000</td> <td>-1.67e+05</td> <td> 1.67e+05</td>\n",
              "</tr>\n",
              "<tr>\n",
              "  <th>ma.S.L84</th>  <td>    0.0335</td> <td>  9.7e+04</td> <td> 3.45e-07</td> <td> 1.000</td> <td> -1.9e+05</td> <td>  1.9e+05</td>\n",
              "</tr>\n",
              "<tr>\n",
              "  <th>ma.S.L112</th> <td>    0.1241</td> <td> 5.47e+04</td> <td> 2.27e-06</td> <td> 1.000</td> <td>-1.07e+05</td> <td> 1.07e+05</td>\n",
              "</tr>\n",
              "<tr>\n",
              "  <th>sigma2</th>    <td>  366.2813</td> <td> 4288.650</td> <td>    0.085</td> <td> 0.932</td> <td>-8039.319</td> <td> 8771.882</td>\n",
              "</tr>\n",
              "</table>\n",
              "<table class=\"simpletable\">\n",
              "<tr>\n",
              "  <th>Ljung-Box (L1) (Q):</th>     <td>0.52</td> <th>  Jarque-Bera (JB):  </th> <td>14.27</td>\n",
              "</tr>\n",
              "<tr>\n",
              "  <th>Prob(Q):</th>                <td>0.47</td> <th>  Prob(JB):          </th> <td>0.00</td> \n",
              "</tr>\n",
              "<tr>\n",
              "  <th>Heteroskedasticity (H):</th> <td>0.37</td> <th>  Skew:              </th> <td>-0.43</td>\n",
              "</tr>\n",
              "<tr>\n",
              "  <th>Prob(H) (two-sided):</th>    <td>0.03</td> <th>  Kurtosis:          </th> <td>5.15</td> \n",
              "</tr>\n",
              "</table><br/><br/>Warnings:<br/>[1] Covariance matrix calculated using the outer product of gradients (complex-step).<br/>[2] Covariance matrix is singular or near-singular, with condition number 1.75e+19. Standard errors may be unstable."
            ],
            "text/latex": [
              "\\begin{center}\n",
              "\\begin{tabular}{lclc}\n",
              "\\toprule\n",
              "\\textbf{Dep. Variable:}          &             Close              & \\textbf{  No. Observations:  } &     93      \\\\\n",
              "\\textbf{Model:}                  & SARIMAX(4, 1, 4)x(4, 1, 4, 28) & \\textbf{  Log Likelihood     } &  -292.454   \\\\\n",
              "\\textbf{Date:}                   &        Thu, 12 Sep 2024        & \\textbf{  AIC                } &  618.908    \\\\\n",
              "\\textbf{Time:}                   &            19:15:15            & \\textbf{  BIC                } &  655.609    \\\\\n",
              "\\textbf{Sample:}                 &           06-12-2024           & \\textbf{  HQIC               } &  633.366    \\\\\n",
              "\\textbf{}                        &          - 09-12-2024          & \\textbf{                     } &             \\\\\n",
              "\\textbf{Covariance Type:}        &              opg               & \\textbf{                     } &             \\\\\n",
              "\\bottomrule\n",
              "\\end{tabular}\n",
              "\\begin{tabular}{lcccccc}\n",
              "                   & \\textbf{coef} & \\textbf{std err} & \\textbf{z} & \\textbf{P$> |$z$|$} & \\textbf{[0.025} & \\textbf{0.975]}  \\\\\n",
              "\\midrule\n",
              "\\textbf{ar.L1}     &       0.1529  &        0.570     &     0.268  &         0.788        &       -0.963    &        1.269     \\\\\n",
              "\\textbf{ar.L2}     &       0.6003  &        0.293     &     2.046  &         0.041        &        0.025    &        1.175     \\\\\n",
              "\\textbf{ar.L3}     &      -0.0533  &        0.321     &    -0.166  &         0.868        &       -0.682    &        0.576     \\\\\n",
              "\\textbf{ar.L4}     &      -0.5370  &        0.498     &    -1.078  &         0.281        &       -1.513    &        0.439     \\\\\n",
              "\\textbf{ma.L1}     &       0.1097  &       46.267     &     0.002  &         0.998        &      -90.571    &       90.791     \\\\\n",
              "\\textbf{ma.L2}     &      -0.9876  &       24.468     &    -0.040  &         0.968        &      -48.944    &       46.969     \\\\\n",
              "\\textbf{ma.L3}     &       0.0340  &       42.214     &     0.001  &         0.999        &      -82.704    &       82.771     \\\\\n",
              "\\textbf{ma.L4}     &       0.9562  &       49.567     &     0.019  &         0.985        &      -96.193    &       98.106     \\\\\n",
              "\\textbf{ar.S.L28}  &      -0.3641  &     6.55e+04     & -5.56e-06  &         1.000        &    -1.28e+05    &     1.28e+05     \\\\\n",
              "\\textbf{ar.S.L56}  &       0.1469  &     8.85e+04     &  1.66e-06  &         1.000        &    -1.73e+05    &     1.73e+05     \\\\\n",
              "\\textbf{ar.S.L84}  &       0.0141  &     4.42e+04     &  3.19e-07  &         1.000        &    -8.66e+04    &     8.66e+04     \\\\\n",
              "\\textbf{ar.S.L112} &       0.0864  &     3.61e+04     &  2.39e-06  &         1.000        &    -7.07e+04    &     7.07e+04     \\\\\n",
              "\\textbf{ma.S.L28}  &      -0.3645  &     6.54e+04     & -5.58e-06  &         1.000        &    -1.28e+05    &     1.28e+05     \\\\\n",
              "\\textbf{ma.S.L56}  &      -0.3946  &     8.51e+04     & -4.64e-06  &         1.000        &    -1.67e+05    &     1.67e+05     \\\\\n",
              "\\textbf{ma.S.L84}  &       0.0335  &      9.7e+04     &  3.45e-07  &         1.000        &     -1.9e+05    &      1.9e+05     \\\\\n",
              "\\textbf{ma.S.L112} &       0.1241  &     5.47e+04     &  2.27e-06  &         1.000        &    -1.07e+05    &     1.07e+05     \\\\\n",
              "\\textbf{sigma2}    &     366.2813  &     4288.650     &     0.085  &         0.932        &    -8039.319    &     8771.882     \\\\\n",
              "\\bottomrule\n",
              "\\end{tabular}\n",
              "\\begin{tabular}{lclc}\n",
              "\\textbf{Ljung-Box (L1) (Q):}     & 0.52 & \\textbf{  Jarque-Bera (JB):  } & 14.27  \\\\\n",
              "\\textbf{Prob(Q):}                & 0.47 & \\textbf{  Prob(JB):          } &  0.00  \\\\\n",
              "\\textbf{Heteroskedasticity (H):} & 0.37 & \\textbf{  Skew:              } & -0.43  \\\\\n",
              "\\textbf{Prob(H) (two-sided):}    & 0.03 & \\textbf{  Kurtosis:          } &  5.15  \\\\\n",
              "\\bottomrule\n",
              "\\end{tabular}\n",
              "%\\caption{SARIMAX Results}\n",
              "\\end{center}\n",
              "\n",
              "Warnings: \\newline\n",
              " [1] Covariance matrix calculated using the outer product of gradients (complex-step). \\newline\n",
              " [2] Covariance matrix is singular or near-singular, with condition number 1.75e+19. Standard errors may be unstable."
            ],
            "text/plain": [
              "<class 'statsmodels.iolib.summary.Summary'>\n",
              "\"\"\"\n",
              "                                     SARIMAX Results                                      \n",
              "==========================================================================================\n",
              "Dep. Variable:                              Close   No. Observations:                   93\n",
              "Model:             SARIMAX(4, 1, 4)x(4, 1, 4, 28)   Log Likelihood                -292.454\n",
              "Date:                            Thu, 12 Sep 2024   AIC                            618.908\n",
              "Time:                                    19:15:15   BIC                            655.609\n",
              "Sample:                                06-12-2024   HQIC                           633.366\n",
              "                                     - 09-12-2024                                         \n",
              "Covariance Type:                              opg                                         \n",
              "==============================================================================\n",
              "                 coef    std err          z      P>|z|      [0.025      0.975]\n",
              "------------------------------------------------------------------------------\n",
              "ar.L1          0.1529      0.570      0.268      0.788      -0.963       1.269\n",
              "ar.L2          0.6003      0.293      2.046      0.041       0.025       1.175\n",
              "ar.L3         -0.0533      0.321     -0.166      0.868      -0.682       0.576\n",
              "ar.L4         -0.5370      0.498     -1.078      0.281      -1.513       0.439\n",
              "ma.L1          0.1097     46.267      0.002      0.998     -90.571      90.791\n",
              "ma.L2         -0.9876     24.468     -0.040      0.968     -48.944      46.969\n",
              "ma.L3          0.0340     42.214      0.001      0.999     -82.704      82.771\n",
              "ma.L4          0.9562     49.567      0.019      0.985     -96.193      98.106\n",
              "ar.S.L28      -0.3641   6.55e+04  -5.56e-06      1.000   -1.28e+05    1.28e+05\n",
              "ar.S.L56       0.1469   8.85e+04   1.66e-06      1.000   -1.73e+05    1.73e+05\n",
              "ar.S.L84       0.0141   4.42e+04   3.19e-07      1.000   -8.66e+04    8.66e+04\n",
              "ar.S.L112      0.0864   3.61e+04   2.39e-06      1.000   -7.07e+04    7.07e+04\n",
              "ma.S.L28      -0.3645   6.54e+04  -5.58e-06      1.000   -1.28e+05    1.28e+05\n",
              "ma.S.L56      -0.3946   8.51e+04  -4.64e-06      1.000   -1.67e+05    1.67e+05\n",
              "ma.S.L84       0.0335    9.7e+04   3.45e-07      1.000    -1.9e+05     1.9e+05\n",
              "ma.S.L112      0.1241   5.47e+04   2.27e-06      1.000   -1.07e+05    1.07e+05\n",
              "sigma2       366.2813   4288.650      0.085      0.932   -8039.319    8771.882\n",
              "===================================================================================\n",
              "Ljung-Box (L1) (Q):                   0.52   Jarque-Bera (JB):                14.27\n",
              "Prob(Q):                              0.47   Prob(JB):                         0.00\n",
              "Heteroskedasticity (H):               0.37   Skew:                            -0.43\n",
              "Prob(H) (two-sided):                  0.03   Kurtosis:                         5.15\n",
              "===================================================================================\n",
              "\n",
              "Warnings:\n",
              "[1] Covariance matrix calculated using the outer product of gradients (complex-step).\n",
              "[2] Covariance matrix is singular or near-singular, with condition number 1.75e+19. Standard errors may be unstable.\n",
              "\"\"\""
            ]
          },
          "execution_count": 22,
          "metadata": {},
          "output_type": "execute_result"
        }
      ],
      "source": [
        "# train SARIMAX with best combinations\n",
        "sarimax = SARIMAX(df, order=(4, 1, 4),seasonal_order=(4, 1, 4, 28)).fit()\n",
        "sarimax.summary()"
      ]
    },
    {
      "cell_type": "code",
      "execution_count": 23,
      "metadata": {
        "colab": {
          "base_uri": "https://localhost:8080/",
          "height": 576
        },
        "id": "R6BtOCsXAVbx",
        "outputId": "c8216b25-073e-471a-9a46-2ecdbde86167"
      },
      "outputs": [
        {
          "data": {
            "text/html": [
              "<div>\n",
              "<style scoped>\n",
              "    .dataframe tbody tr th:only-of-type {\n",
              "        vertical-align: middle;\n",
              "    }\n",
              "\n",
              "    .dataframe tbody tr th {\n",
              "        vertical-align: top;\n",
              "    }\n",
              "\n",
              "    .dataframe thead th {\n",
              "        text-align: right;\n",
              "    }\n",
              "</style>\n",
              "<table border=\"1\" class=\"dataframe\">\n",
              "  <thead>\n",
              "    <tr style=\"text-align: right;\">\n",
              "      <th></th>\n",
              "      <th>Close</th>\n",
              "      <th>Close_predict</th>\n",
              "    </tr>\n",
              "    <tr>\n",
              "      <th>Date</th>\n",
              "      <th></th>\n",
              "      <th></th>\n",
              "    </tr>\n",
              "  </thead>\n",
              "  <tbody>\n",
              "    <tr>\n",
              "      <th>2024-08-16</th>\n",
              "      <td>1230.0</td>\n",
              "      <td>1264.145132</td>\n",
              "    </tr>\n",
              "    <tr>\n",
              "      <th>2024-08-17</th>\n",
              "      <td>1230.0</td>\n",
              "      <td>1292.574817</td>\n",
              "    </tr>\n",
              "    <tr>\n",
              "      <th>2024-08-18</th>\n",
              "      <td>1230.0</td>\n",
              "      <td>1286.327363</td>\n",
              "    </tr>\n",
              "    <tr>\n",
              "      <th>2024-08-19</th>\n",
              "      <td>1215.0</td>\n",
              "      <td>1280.245634</td>\n",
              "    </tr>\n",
              "    <tr>\n",
              "      <th>2024-08-20</th>\n",
              "      <td>1205.0</td>\n",
              "      <td>1281.888191</td>\n",
              "    </tr>\n",
              "    <tr>\n",
              "      <th>2024-08-21</th>\n",
              "      <td>1200.0</td>\n",
              "      <td>1277.107209</td>\n",
              "    </tr>\n",
              "    <tr>\n",
              "      <th>2024-08-22</th>\n",
              "      <td>1190.0</td>\n",
              "      <td>1290.816313</td>\n",
              "    </tr>\n",
              "    <tr>\n",
              "      <th>2024-08-23</th>\n",
              "      <td>1175.0</td>\n",
              "      <td>1276.730273</td>\n",
              "    </tr>\n",
              "    <tr>\n",
              "      <th>2024-08-24</th>\n",
              "      <td>1175.0</td>\n",
              "      <td>1275.201592</td>\n",
              "    </tr>\n",
              "    <tr>\n",
              "      <th>2024-08-25</th>\n",
              "      <td>1175.0</td>\n",
              "      <td>1280.541276</td>\n",
              "    </tr>\n",
              "    <tr>\n",
              "      <th>2024-08-26</th>\n",
              "      <td>1185.0</td>\n",
              "      <td>1302.888384</td>\n",
              "    </tr>\n",
              "    <tr>\n",
              "      <th>2024-08-27</th>\n",
              "      <td>1180.0</td>\n",
              "      <td>1301.932141</td>\n",
              "    </tr>\n",
              "    <tr>\n",
              "      <th>2024-08-28</th>\n",
              "      <td>1155.0</td>\n",
              "      <td>1315.216883</td>\n",
              "    </tr>\n",
              "    <tr>\n",
              "      <th>2024-08-29</th>\n",
              "      <td>1125.0</td>\n",
              "      <td>1300.897493</td>\n",
              "    </tr>\n",
              "    <tr>\n",
              "      <th>2024-08-30</th>\n",
              "      <td>1145.0</td>\n",
              "      <td>1303.383955</td>\n",
              "    </tr>\n",
              "    <tr>\n",
              "      <th>2024-08-31</th>\n",
              "      <td>1145.0</td>\n",
              "      <td>1299.595846</td>\n",
              "    </tr>\n",
              "    <tr>\n",
              "      <th>2024-09-01</th>\n",
              "      <td>1145.0</td>\n",
              "      <td>1298.505697</td>\n",
              "    </tr>\n",
              "    <tr>\n",
              "      <th>2024-09-02</th>\n",
              "      <td>1145.0</td>\n",
              "      <td>1273.978441</td>\n",
              "    </tr>\n",
              "    <tr>\n",
              "      <th>2024-09-03</th>\n",
              "      <td>1130.0</td>\n",
              "      <td>1281.423850</td>\n",
              "    </tr>\n",
              "    <tr>\n",
              "      <th>2024-09-04</th>\n",
              "      <td>1135.0</td>\n",
              "      <td>1306.661345</td>\n",
              "    </tr>\n",
              "    <tr>\n",
              "      <th>2024-09-05</th>\n",
              "      <td>1140.0</td>\n",
              "      <td>1313.203761</td>\n",
              "    </tr>\n",
              "    <tr>\n",
              "      <th>2024-09-06</th>\n",
              "      <td>1130.0</td>\n",
              "      <td>1295.760221</td>\n",
              "    </tr>\n",
              "    <tr>\n",
              "      <th>2024-09-07</th>\n",
              "      <td>1130.0</td>\n",
              "      <td>1295.654150</td>\n",
              "    </tr>\n",
              "    <tr>\n",
              "      <th>2024-09-08</th>\n",
              "      <td>1130.0</td>\n",
              "      <td>1296.075255</td>\n",
              "    </tr>\n",
              "    <tr>\n",
              "      <th>2024-09-09</th>\n",
              "      <td>1130.0</td>\n",
              "      <td>1292.416457</td>\n",
              "    </tr>\n",
              "    <tr>\n",
              "      <th>2024-09-10</th>\n",
              "      <td>1150.0</td>\n",
              "      <td>1294.364036</td>\n",
              "    </tr>\n",
              "    <tr>\n",
              "      <th>2024-09-11</th>\n",
              "      <td>1130.0</td>\n",
              "      <td>1281.144443</td>\n",
              "    </tr>\n",
              "    <tr>\n",
              "      <th>2024-09-12</th>\n",
              "      <td>1140.0</td>\n",
              "      <td>1294.701803</td>\n",
              "    </tr>\n",
              "  </tbody>\n",
              "</table>\n",
              "</div>"
            ],
            "text/plain": [
              "             Close  Close_predict\n",
              "Date                             \n",
              "2024-08-16  1230.0    1264.145132\n",
              "2024-08-17  1230.0    1292.574817\n",
              "2024-08-18  1230.0    1286.327363\n",
              "2024-08-19  1215.0    1280.245634\n",
              "2024-08-20  1205.0    1281.888191\n",
              "2024-08-21  1200.0    1277.107209\n",
              "2024-08-22  1190.0    1290.816313\n",
              "2024-08-23  1175.0    1276.730273\n",
              "2024-08-24  1175.0    1275.201592\n",
              "2024-08-25  1175.0    1280.541276\n",
              "2024-08-26  1185.0    1302.888384\n",
              "2024-08-27  1180.0    1301.932141\n",
              "2024-08-28  1155.0    1315.216883\n",
              "2024-08-29  1125.0    1300.897493\n",
              "2024-08-30  1145.0    1303.383955\n",
              "2024-08-31  1145.0    1299.595846\n",
              "2024-09-01  1145.0    1298.505697\n",
              "2024-09-02  1145.0    1273.978441\n",
              "2024-09-03  1130.0    1281.423850\n",
              "2024-09-04  1135.0    1306.661345\n",
              "2024-09-05  1140.0    1313.203761\n",
              "2024-09-06  1130.0    1295.760221\n",
              "2024-09-07  1130.0    1295.654150\n",
              "2024-09-08  1130.0    1296.075255\n",
              "2024-09-09  1130.0    1292.416457\n",
              "2024-09-10  1150.0    1294.364036\n",
              "2024-09-11  1130.0    1281.144443\n",
              "2024-09-12  1140.0    1294.701803"
            ]
          },
          "execution_count": 23,
          "metadata": {},
          "output_type": "execute_result"
        }
      ],
      "source": [
        "# predict test-set\n",
        "sar_pred_test = sarimax.predict(start=\"2024-08-16\", end=\"2024-09-12\", dynamic=True)\n",
        "sar_pred_test = pd.DataFrame(sar_pred_test)\n",
        "sar_pred_test.columns = ['Close_predict']\n",
        "\n",
        "# concate with actual test-set\n",
        "act_vs_pred_sar = pd.concat([test, sar_pred_test], axis=1)\n",
        "act_vs_pred_sar"
      ]
    },
    {
      "cell_type": "code",
      "execution_count": 24,
      "metadata": {
        "colab": {
          "base_uri": "https://localhost:8080/"
        },
        "id": "2Rh9BJhBAqxJ",
        "outputId": "9d4927ac-3761-4c94-ae65-c935db79fce6"
      },
      "outputs": [
        {
          "name": "stdout",
          "output_type": "stream",
          "text": [
            "MAE test  :  127.0850700191518\n"
          ]
        }
      ],
      "source": [
        "# check the MAE\n",
        "print('MAE test  : ', mean_absolute_error(test, sar_pred_test))"
      ]
    },
    {
      "cell_type": "markdown",
      "metadata": {
        "id": "fr3IMPLNxQGJ"
      },
      "source": [
        "# Inference"
      ]
    },
    {
      "cell_type": "markdown",
      "metadata": {
        "id": "6Zyji_IjRz86"
      },
      "source": [
        "inference using ARIMA, because it has lower MAE."
      ]
    },
    {
      "cell_type": "code",
      "execution_count": 25,
      "metadata": {
        "id": "Hqm1NDDqwSNu"
      },
      "outputs": [],
      "source": [
        "# forecasting\n",
        "forecast = arima.forecast(steps=12) #forecast periods\n",
        "\n",
        "# get confidence intervals\n",
        "forecast_results = arima.get_forecast(steps=12)\n",
        "conf_int = forecast_results.conf_int(alpha=0.05)\n",
        "\n",
        "# make as pandas series\n",
        "forecast_series = pd.Series(forecast, index=test.index)\n",
        "lower_series = pd.Series(conf_int.iloc[:, 0], index=test.index)\n",
        "upper_series = pd.Series(conf_int.iloc[:, 1], index=test.index)"
      ]
    },
    {
      "cell_type": "code",
      "execution_count": 26,
      "metadata": {
        "colab": {
          "base_uri": "https://localhost:8080/"
        },
        "id": "Fj2YuxI7TTU9",
        "outputId": "cabbea2f-3868-49c5-9d66-65a39e08d8e4"
      },
      "outputs": [
        {
          "data": {
            "text/plain": [
              "2024-09-20    1151.726939\n",
              "2024-09-21    1146.706076\n",
              "2024-09-22    1142.649909\n",
              "2024-09-23    1145.422931\n",
              "2024-09-24    1148.121949\n",
              "Freq: D, Name: predicted_mean, dtype: float64"
            ]
          },
          "execution_count": 26,
          "metadata": {},
          "output_type": "execute_result"
        }
      ],
      "source": [
        "# predict September, 20 2024\n",
        "forecast['2024-09-20':]"
      ]
    },
    {
      "cell_type": "code",
      "execution_count": 27,
      "metadata": {
        "colab": {
          "base_uri": "https://localhost:8080/",
          "height": 889
        },
        "id": "iKfmaZc3SL7C",
        "outputId": "9225c12c-fa23-4e5d-e2c0-9d6b66ab6df4"
      },
      "outputs": [
        {
          "data": {
            "text/plain": [
              "<matplotlib.legend.Legend at 0x12dd97673d0>"
            ]
          },
          "execution_count": 27,
          "metadata": {},
          "output_type": "execute_result"
        },
        {
          "data": {
            "image/png": "[encoded data removed]",
            "text/plain": [
              "<Figure size 2000x500 with 1 Axes>"
            ]
          },
          "metadata": {},
          "output_type": "display_data"
        },
        {
          "data": {
            "image/png": "[encoded data removed]",
            "text/plain": [
              "<Figure size 640x480 with 1 Axes>"
            ]
          },
          "metadata": {},
          "output_type": "display_data"
        }
      ],
      "source": [
        "# make a forecast\n",
        "forecast.plot(color='blue', label = 'forecast',figsize=(20,5))\n",
        "df.plot(color='red',label = 'real')\n",
        "plt.legend()"
      ]
    }
  ],
  "metadata": {
    "colab": {
      "provenance": []
    },
    "kernelspec": {
      "display_name": "Python 3",
      "name": "python3"
    },
    "language_info": {
      "codemirror_mode": {
        "name": "ipython",
        "version": 3
      },
      "file_extension": ".py",
      "mimetype": "text/x-python",
      "name": "python",
      "nbconvert_exporter": "python",
      "pygments_lexer": "ipython3",
      "version": "3.11.7"
    }
  },
  "nbformat": 4,
  "nbformat_minor": 0
}
